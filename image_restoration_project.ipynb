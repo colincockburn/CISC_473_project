{
  "nbformat": 4,
  "nbformat_minor": 0,
  "metadata": {
    "colab": {
      "provenance": [],
      "authorship_tag": "ABX9TyMcr6c+DfSqbt7QcnF+nZE3",
      "include_colab_link": true
    },
    "kernelspec": {
      "name": "python3",
      "display_name": "Python 3"
    },
    "language_info": {
      "name": "python"
    }
  },
  "cells": [
    {
      "cell_type": "markdown",
      "metadata": {
        "id": "view-in-github",
        "colab_type": "text"
      },
      "source": [
        "<a href=\"https://colab.research.google.com/github/colincockburn/CISC_473_project/blob/main/image_restoration_project.ipynb\" target=\"_parent\"><img src=\"https://colab.research.google.com/assets/colab-badge.svg\" alt=\"Open In Colab\"/></a>"
      ]
    },
    {
      "cell_type": "code",
      "source": [
        "from google.colab import drive"
      ],
      "metadata": {
        "id": "tvhruIuWjnwl"
      },
      "execution_count": null,
      "outputs": []
    },
    {
      "cell_type": "code",
      "execution_count": null,
      "metadata": {
        "id": "DV3wSzPbTufZ"
      },
      "outputs": [],
      "source": [
        "# move this to later\n",
        "# root_dir = \"C:\\Users\\colin\\OneDrive\\Desktop\\projects\\473_project\\data\\raw_data\"\n",
        "# raw_train_name = \"DIV2K_train_HR\"\n",
        "# raw_val_name = \"DIV2K_valid_HR\"\n",
        "\n",
        "\n",
        "class DataLoader(object):\n",
        "  def __init__(self, root_dir):\n",
        "    pass\n"
      ]
    },
    {
      "cell_type": "code",
      "source": [],
      "metadata": {
        "id": "eaINCBHVjls_"
      },
      "execution_count": null,
      "outputs": []
    }
  ]
}